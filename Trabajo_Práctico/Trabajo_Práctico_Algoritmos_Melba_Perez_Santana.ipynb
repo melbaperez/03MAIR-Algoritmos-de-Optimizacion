{
  "nbformat": 4,
  "nbformat_minor": 0,
  "metadata": {
    "colab": {
      "provenance": [],
      "include_colab_link": true
    },
    "kernelspec": {
      "name": "python3",
      "display_name": "Python 3"
    }
  },
  "cells": [
    {
      "cell_type": "markdown",
      "metadata": {
        "id": "view-in-github",
        "colab_type": "text"
      },
      "source": [
        "<a href=\"https://colab.research.google.com/github/melbaperez/03MAIR-Algoritmos-de-Optimizacion/blob/main/Trabajo_Pr%C3%A1ctico/Trabajo_Pr%C3%A1ctico_Algoritmos_Melba_Perez_Santana.ipynb\" target=\"_parent\"><img src=\"https://colab.research.google.com/assets/colab-badge.svg\" alt=\"Open In Colab\"/></a>"
      ]
    },
    {
      "cell_type": "markdown",
      "metadata": {
        "id": "hVbXYX-RfPWh"
      },
      "source": [
        "# Algoritmos de optimización - Trabajo Práctico<br>\n",
        "**Nombre y Apellidos:** Melba Pérez Santana  <br>\n",
        "**Url:** https://github.com/melbaperez/03MAIR-Algoritmos-de-Optimizacion<br>\n",
        "**Google Colab:** https://colab.research.google.com/drive/1_2L_GXN9sg5hH4rCwq5N1zJEAQv3C2i9?usp=sharing <br><br>\n",
        "**Problema:**\n",
        ">2. Organizar los horarios de partidos de La Liga<br>\n",
        "\n",
        "**Descripción del problema:** <br>\n",
        "Desde la La Liga de fútbol profesional se pretende organizar los horarios de los partidos de liga de cada jornada. Se conocen algunos datos que nos deben llevar a diseñar un algoritmo que realice la asignación de los partidos a los horarios de forma que maximice la audiencia. Los horarios disponibles se conocen a priori y son los siguientes: <br>\n",
        "\n",
        "|         |             |\n",
        "|---------|-------------|\n",
        "| Viernes | 20          |       \n",
        "| Sábado  | 12,16,18,20 |           \n",
        "| Domingo | 12,16,18,20 |            \n",
        "| Lunes   | 20          |           \n",
        "\n",
        "\n",
        "En primer lugar se clasifican los equipos en tres categorías según el numero de seguidores( que tiene relación directa con la audiencia). Hay 3 equipos en la categoría A, 11 equipos de categoría B y 6 equipos de categoría C. Se conoce estadísticamente la audiencia que genera cada partido según los equipos que se enfrentan y en horario de sábado a las 20h (el mejor en todos los casos)\n",
        "\n",
        "|                   | Categoría A | Categoría B   | Categoría C   |\n",
        "|-------------------|-------------|---------------|---------------|\n",
        "| Categoría A       | 2 millones  | 1,3 millones  | 1 millones    |\n",
        "| Categoría B       |             | 0,9 millones  | 0,75 millones |\n",
        "| Categoría C       |             |               | 0,47 millones |\n",
        "\n",
        "\n",
        "Si el horario del partido no se realiza a las 20 horas del sábado se sabe que se reduce según los coeficientes de la siguiente tabla. Debemos asignar obligatoriamente siempre un partido el viernes y un partido el lunes\n",
        "\n",
        "\n",
        "|      | Viernes |  Sábado   | Domingo   | Lunes   |\n",
        "|------|---------|-----------|-----------|---------|\n",
        "| 12h  |         | 0,55      | 0,45      |         |\n",
        "| 16h  |         | 0,7       | 0,75      |         |\n",
        "| 18h  |         | 0,8       | 0,85      |         |\n",
        "| 20h  |0,4      | 1         | 1         |0,4      |\n",
        "\n",
        "Es posible la coincidencia de horarios pero en este caso la audiencia de cada partido se verá afectada y se estima que se reduce en porcentaje según la siguiente tabla dependiendo del número de coincidencias:\n",
        "\n",
        "| Coincidencias| -%  |\n",
        "|--------------|-----|\n",
        "| 0            |  0% |\n",
        "| 1            | 25% |\n",
        "| 2            | 45% |\n",
        "| 3            | 60% |\n",
        "| 4            | 70% |\n",
        "| 5            | 75% |\n",
        "| 6            | 78% |\n",
        "| 7            | 80% |\n",
        "| 8            | 80% |\n",
        "\n",
        "\n",
        "\n",
        "\n",
        "                                        "
      ]
    },
    {
      "cell_type": "code",
      "source": [
        "import matplotlib.pyplot as plt\n",
        "import random\n",
        "from random import shuffle\n",
        "from itertools import combinations\n",
        "random.seed(42)"
      ],
      "metadata": {
        "id": "RMaKCKlJkdkg"
      },
      "execution_count": 11,
      "outputs": []
    },
    {
      "cell_type": "markdown",
      "source": [
        "#Modelo\n",
        "- **¿Cómo represento el espacio de soluciones?** <br>\n",
        "El espacio de soluciones se representará con una tupla en la que cada posición corresponderá a un partido y en cada posición se dará el slot del horario asociado a dicho partido. Por lo que, en nuestro caso, cada posición en la tupla corresponderá a los siguientes partidos:<br>\n",
        " 0 - Celta-RealMadrid<br>\n",
        " 1 - Valencia-RealSociedad<br>\n",
        " 2 - Mallorca-Eibar<br>\n",
        " 3 - Athletic-Barcelona<br>\n",
        " 4 - Leganes-Osasuna<br>\n",
        " 5 - Villareal-Granada<br>\n",
        " 6 - Alaves-Levante<br>\n",
        " 7 - Espanyol-Sevilla<br>\n",
        " 8 - Betis-Valladolid<br>\n",
        " 9- Atletico-Getafe<br><br>\n",
        "\n",
        "\n",
        "- **¿Cuál es la función objetivo?** <br>\n",
        "La función objetivo es la cantidad de audiencia en todos los partidos. Esta función se obtiene a partir de multiplicar el número de audiencia según las categorías de los equipos por coeficientes de reducción dependiendo del horario asignado. A esta multiplicación se le debe multiplicar por el porcentaje correspondiente debido al número de coincidencias en el mismo día y hora. Se calcula el número de audencia.<br><br>\n",
        "Por lo tanto, la función objetivo es:<br>\n",
        "      f(x1, ..., xn) = (1-c1)·x1·r1 + ... + (1-cn)·xn·rn\n",
        "donde:<br>\n",
        "x1, .., xn = audiencias de cada partido<br>\n",
        "r1, .., rn = coeficientes de reducción de audienzas de los horarios<br>\n",
        "c1, .., cn = porcentaje de reducción dependiendo del número de coincidencias<br><br>\n",
        "En este caso, se trata de un problema de maximización, donde se debe obtener la máxima audiencia para la jornada de partidos.<br><br>\n",
        "\n",
        "\n",
        "- **¿Cómo implemento las restricciones?** <br>\n",
        "La restricción de este problema es que debe haber el slots de horario de los viernes a las 20:00 en un partido y los lunes a las 20:00 en otro partido. En este caso, cada vez que se crea un posible espacio de soluciones se tiene en cuenta que en la tupla aparezca al menos una vez V20 (viernes a las 20:00) y L20 (lunes a las 20:00)."
      ],
      "metadata": {
        "id": "Sbo9IqQtpaHZ"
      }
    },
    {
      "cell_type": "code",
      "metadata": {
        "id": "AiskKkzZfy4e"
      },
      "source": [
        "dict_categoria_visualizaciones = {\"AA\":2, \"AB\":1.3, \"AC\":1, \"BB\":0.9, \"BC\":0.75, \"CC\":0.47}\n",
        "dict_partidos_categorias = {\"Celta-RealMadrid\":\"AB\",\n",
        "                                  \"Valencia-RealSociedad\":\"AB\",\n",
        "                                  \"Mallorca-Eibar\":\"CC\",\n",
        "                                  \"Athletic-Barcelona\":\"AB\",\n",
        "                                  \"Leganes-Osasuna\":\"CC\",\n",
        "                                  \"Villareal-Granada\":\"BC\",\n",
        "                                  \"Alaves-Levante\":\"BB\",\n",
        "                                  \"Espanyol-Sevilla\":\"BB\",\n",
        "                                  \"Betis-Valladolid\":\"BC\",\n",
        "                                  \"Atletico-Getafe\":\"BB\"}\n",
        "dict_horarios_ponderaciones = {\"V20\": 0.4, \"S12\":0.55, \"S16\":0.7, \"S18\":0.8, \"S20\":1, \"D12\":0.45, \"D16\":0.75, \"D18\":0.85, \"D20\":1, \"L20\": 0.4}\n",
        "lista_reduccion_coincidencias = [0, 0.25, 0.45, 0.60, 0.70, 0.75, 0.78, 0.80, 0.80]\n",
        "\n",
        "opciones_horarios = ['V20', 'S12', 'S16', 'S18', 'S20', 'D12', 'D16', 'D18', 'D20', 'L20']\n",
        "partidos = [\"Celta-RealMadrid\", \"Valencia-RealSociedad\", \"Mallorca-Eibar\", \"Athletic-Barcelona\", \"Leganes-Osasuna\", \"Villareal-Granada\", \"Alaves-Levante\", \"Espanyol-Sevilla\", \"Betis-Valladolid\", \"Atletico-Getafe\"]\n",
        "num_horarios_restricciones = 2\n"
      ],
      "execution_count": 12,
      "outputs": []
    },
    {
      "cell_type": "code",
      "source": [
        "def calcular_visualizaciones(base_audiencia, ponderacion, num_coincidencias):\n",
        "    return base_audiencia*ponderacion*(1-lista_reduccion_coincidencias[num_coincidencias])\n",
        "\n",
        "def obtener_base_audiencia(partido):\n",
        "    return dict_categoria_visualizaciones.get(dict_partidos_categorias.get(partido))\n",
        "\n",
        "def calcular_visualizaciones_de_horario(horarios_partidos):\n",
        "    suma_audiencia = 0\n",
        "    coincidencias = {horario:horarios_partidos.count(horario)-1 for horario in horarios_partidos}\n",
        "    for i in range(len(horarios_partidos)):\n",
        "        suma_audiencia += calcular_visualizaciones(obtener_base_audiencia(partidos[i]), dict_horarios_ponderaciones.get(horarios_partidos[i]), coincidencias.get(horarios_partidos[i]))\n",
        "    return round(suma_audiencia, 3)"
      ],
      "metadata": {
        "id": "7FPqktdLks1i"
      },
      "execution_count": 13,
      "outputs": []
    },
    {
      "cell_type": "markdown",
      "source": [
        "#Análisis\n",
        "- **¿Que complejidad tiene el problema? Orden de complejidad y contabilizar el espacio de soluciones** <br>\n",
        "El orden de complejidad del problema es de O(n^10).<br><br>\n",
        "El espacio de soluciones sin restricciones es 10000000000. Habiendo X partidos e Y slots de horarios, sería una variación con repetición porque se pueden repetir los slots de los horarios para cada partido. Además, el orden importa e intervienen todos los elementos. Por lo tanto, la fórmula es Y^X = 10^10.<br><br>\n",
        "Sin embargo, teniendo en cuenta las restricciones. Al tener dos slots que necesariamente deben tener como mínimo un partido asignado cada uno, podemos calcular el espacio de soluciones por separado de estos dos slots de los otros 8.<br><br>\n",
        "Por lo que partimos de Y^X = 8^8 = 16777216. Estos son todas las variaciones con repetición de los partidos en los 8 horarios. En cambio, para los otros dos slots, será también una variación con repetición, pero con solamente dos posiciones posibles 2^2 = 4 <br>\n",
        "Si multiplicamos estos dos valores daría 67108864.\n",
        "\n",
        "\n"
      ],
      "metadata": {
        "id": "HZz52wOppp-U"
      }
    },
    {
      "cell_type": "markdown",
      "source": [
        "#Diseño\n",
        "- **¿Qué técnica utilizo? ¿Por qué?** <br>\n",
        "Utilizaré algoritmos genéticos, ya que nos encontramos con un espacio de soluciones grande y complejo. Asimismo, al explotar constantemente las mejores soluciones y variar las soluciones con la diversidad genética, evitamos quedar atrapados en óptimos locales."
      ],
      "metadata": {
        "id": "ixEJUwH_pv7M"
      }
    },
    {
      "cell_type": "code",
      "source": [
        "def generar_individuo(num_partidos):\n",
        "    individuo = opciones_horarios.copy()\n",
        "    shuffle(individuo)\n",
        "    if (len(individuo) < num_partidos):\n",
        "        for x in range(num_partidos-len(individuo)):\n",
        "            indice_aleatorio = random.randint(0, len(opciones_horarios) - 1)\n",
        "            individuo.append(opciones_horarios[indice_aleatorio])\n",
        "    elif (len(individuo) > num_partidos):\n",
        "        while len(individuo) != num_partidos:\n",
        "            indice_aleatorio = random.randint(0, len(individuo) - 1)\n",
        "            if (individuo[indice_aleatorio] != 'V20' and individuo[indice_aleatorio] != 'L20') or (num_partidos < num_horarios_restricciones and len(individuo) == num_horarios_restricciones):\n",
        "                individuo.pop(indice_aleatorio)\n",
        "    return individuo\n",
        "\n",
        "def generar_poblacion(num_partidos, num_individuos):\n",
        "  dict_individuos = {}\n",
        "  for i in range(num_individuos):\n",
        "    dict_individuos[tuple(generar_individuo(num_partidos))] = 0\n",
        "  return dict_individuos"
      ],
      "metadata": {
        "id": "ZdKPjB9gp2BA"
      },
      "execution_count": 14,
      "outputs": []
    },
    {
      "cell_type": "code",
      "source": [
        "# Evalúa la población y devuelve el mejor individuo, en este caso, para optimizar el algoritmo, si hay valores del diccionario\n",
        "# inicializado a 0 entonces se calcula el número de audiencia para cada posible solución de horarios.\n",
        "def evaluar_poblacion(dict_poblacion):\n",
        "  mejor_horario = float(\"-inf\")\n",
        "  mejor_numero_audiencia = float(\"-inf\")\n",
        "  for clave in dict_poblacion:\n",
        "    if dict_poblacion[clave] == 0:\n",
        "      dict_poblacion[clave] = calcular_visualizaciones_de_horario(clave)\n",
        "    if dict_poblacion[clave] > mejor_numero_audiencia:\n",
        "      mejor_numero_audiencia = dict_poblacion[clave]\n",
        "      mejor_horario = clave\n",
        "\n",
        "  return mejor_horario, mejor_numero_audiencia, dict_poblacion"
      ],
      "metadata": {
        "id": "oEj-5ABH4yED"
      },
      "execution_count": 15,
      "outputs": []
    },
    {
      "cell_type": "code",
      "source": [
        "# Funcion de mutación. Para evitar que haya más de una vez L20 o V20, que son los slots de horario con más bajo número de audencia, se cambian todos\n",
        "# los horarios de los partidos hasta que solo haya uno de cada uno y si de primeras hay uno de cada pues se intercambian dos horarios aleatoriamente.\n",
        "def mutar(individuo, porcentaje_mutacion, num_partidos):\n",
        "  mutacion = random.randint(0, 100)\n",
        "  if mutacion <= porcentaje_mutacion * 100:\n",
        "    individuo_lista = list(individuo)\n",
        "    multiples_l20 = False\n",
        "    multiples_v20 = False\n",
        "    while individuo_lista.count(\"L20\") > 1:\n",
        "      multiples_l20 = True\n",
        "      indice_aleatorio = random.randint(0, num_partidos-1)\n",
        "      individuo_lista[individuo_lista.index(\"L20\")] = opciones_horarios[indice_aleatorio]\n",
        "    while individuo_lista.count(\"V20\") > 1:\n",
        "      multiples_v20 = True\n",
        "      indice_aleatorio = random.randint(0, num_partidos-1)\n",
        "      individuo_lista[individuo_lista.index(\"V20\")] = opciones_horarios[indice_aleatorio]\n",
        "    if not multiples_l20 and not multiples_v20:\n",
        "      indice_1 = random.randint(0, num_partidos-1)\n",
        "      indice_2 = random.randint(0, num_partidos-1)\n",
        "      indice_aleatorio = random.randint(0, num_partidos-1)\n",
        "      individuo_1 = individuo_lista[indice_1]\n",
        "      individuo_lista[indice_1] = individuo_lista[indice_2]\n",
        "      individuo_lista[indice_2] = individuo_1\n",
        "    return tuple(individuo_lista)\n",
        "  return individuo"
      ],
      "metadata": {
        "id": "7aZ0kNQE4zk3"
      },
      "execution_count": 16,
      "outputs": []
    },
    {
      "cell_type": "code",
      "source": [
        "# Función para generar hijos a partir de 2 padres. El método utilizado es el n-point crossover, en este caso se hacen 4 particiones.\n",
        "def descendencia(padres, porcentaje_mutacion, num_partidos):\n",
        "    madre = padres[0]\n",
        "    padre = padres[1]\n",
        "    indices = []\n",
        "    indices.append(madre.index('V20'))\n",
        "    indices.append(madre.index('L20'))\n",
        "    indices = sorted(indices)\n",
        "\n",
        "    hijo = padre[:indices[0]//2] + madre[indices[0]//2:indices[0]+1] + padre[indices[0]+1:indices[0]+1+(indices[1]-indices[0])//2] + madre[indices[0]+1+(indices[1]-indices[0])//2:]\n",
        "    return mutar(hijo, porcentaje_mutacion, num_partidos)\n",
        ""
      ],
      "metadata": {
        "id": "AjPeB2HD40VR"
      },
      "execution_count": 17,
      "outputs": []
    },
    {
      "cell_type": "code",
      "source": [
        "# Función de cruce. Se cogen la mitad los individuos de la población con mejores números de audiencia, se crean todas las\n",
        "# combinaciones posibles de pares de elementos de esta lista de mejores individuos y se generan sus hijos. A estos hijos\n",
        "# al añadirlos a la población se les calcula el número de visualizaciones para optimizar el rendimiento.\n",
        "def cruzar(poblacion, porcentaje_mutacion, num_individuos, num_partidos):\n",
        "  poblacion_a_cruzar = sorted(poblacion, key=lambda x: poblacion[x], reverse=True)[:num_individuos//2]\n",
        "  pares_padres = list(combinations(poblacion_a_cruzar, 2))\n",
        "  for padres in pares_padres:\n",
        "    nuevo_hijo = descendencia(padres, porcentaje_mutacion, num_partidos)\n",
        "    poblacion[nuevo_hijo] = calcular_visualizaciones_de_horario(list(nuevo_hijo))\n",
        "  return poblacion"
      ],
      "metadata": {
        "id": "DpaAyciq43Ec"
      },
      "execution_count": 18,
      "outputs": []
    },
    {
      "cell_type": "code",
      "source": [
        "# Función de selección de la población. Se escogen los individuos con los mejores números de audiencia.\n",
        "def seleccionar(poblacion, num_individuos):\n",
        "  return dict(sorted(poblacion.items(), key=lambda x: x[1], reverse=True)[:num_individuos])"
      ],
      "metadata": {
        "id": "iB_NZyLg44eW"
      },
      "execution_count": 19,
      "outputs": []
    },
    {
      "cell_type": "code",
      "source": [
        "def algoritmo_genetico(partidos, num_individuos, mutacion, generaciones):\n",
        "  # partidos => datos del problema\n",
        "  # num_individuos => tamaño de la población\n",
        "  # mutacion => probabilidad de una mutación\n",
        "  # generaciones => número de generaciones a generar para finalizar\n",
        "\n",
        "  # Genera la población inicial\n",
        "  poblacion = generar_poblacion(len(partidos), num_individuos)\n",
        "\n",
        "  # Inicializamos valores para la mejor solución\n",
        "  previo_mejor_horario, previo_mejor_numero_audiencia, poblacion_evaluada = evaluar_poblacion(poblacion)\n",
        "\n",
        "  # Condición de parada\n",
        "  stop = False\n",
        "  n = 1\n",
        "\n",
        "  mejores_soluciones = []\n",
        "\n",
        "  while(stop == False) :\n",
        "\n",
        "    # Cruce\n",
        "    poblacion_evaluada = cruzar(poblacion_evaluada, mutacion, num_individuos, len(partidos))\n",
        "\n",
        "    # Selección\n",
        "    poblacion_evaluada = seleccionar(poblacion_evaluada, num_individuos)\n",
        "\n",
        "    # Evaluación\n",
        "    mejor_horario, mejor_numero_audiencia, poblacion_evaluada = evaluar_poblacion(poblacion_evaluada)\n",
        "\n",
        "    print(\"Generacion #\", n, \"\\nEl mejor horario es:\" , mejor_horario, \"\\ncon número de audiencia \" , mejor_numero_audiencia, \"\\n\")\n",
        "    mejores_soluciones.append(mejor_numero_audiencia)\n",
        "\n",
        "    # Criterio de parada\n",
        "    if n==generaciones:\n",
        "      stop = True\n",
        "\n",
        "    n += 1\n",
        "\n",
        "  iteraciones = list(range(1, generaciones+1))\n",
        "  plt.plot(iteraciones, mejores_soluciones, linestyle='-')\n",
        "  plt.title('Evolución del mejor número de audiencia')\n",
        "  plt.xlabel('Iteraciones')\n",
        "  plt.ylabel('Número de audiencia (millones)')\n",
        "  plt.grid(True)\n",
        "  plt.show()\n",
        "\n",
        "  return mejor_horario\n",
        "\n",
        "\n",
        "solucion = algoritmo_genetico(partidos, num_individuos=25, mutacion=.7, generaciones=30)"
      ],
      "metadata": {
        "colab": {
          "base_uri": "https://localhost:8080/",
          "height": 1000
        },
        "id": "rhaM63GJ47G9",
        "outputId": "fa21c551-769e-4403-e9e9-38007a3c3485"
      },
      "execution_count": 20,
      "outputs": [
        {
          "output_type": "stream",
          "name": "stdout",
          "text": [
            "Generacion # 1 \n",
            "El mejor horario es: ('D18', 'S18', 'S16', 'D20', 'D12', 'D16', 'L20', 'S20', 'V20', 'S12') \n",
            "con número de audiencia  6.603 \n",
            "\n",
            "Generacion # 2 \n",
            "El mejor horario es: ('S18', 'S20', 'L20', 'D20', 'D12', 'D16', 'D20', 'D18', 'V20', 'S16') \n",
            "con número de audiencia  6.647 \n",
            "\n",
            "Generacion # 3 \n",
            "El mejor horario es: ('S18', 'S20', 'S12', 'D20', 'L20', 'D16', 'D20', 'D18', 'V20', 'S16') \n",
            "con número de audiencia  6.694 \n",
            "\n",
            "Generacion # 4 \n",
            "El mejor horario es: ('S18', 'S20', 'S12', 'D20', 'L20', 'D16', 'D12', 'D18', 'V20', 'S16') \n",
            "con número de audiencia  6.749 \n",
            "\n",
            "Generacion # 5 \n",
            "El mejor horario es: ('S18', 'S20', 'S12', 'D20', 'L20', 'D16', 'D12', 'D18', 'V20', 'S16') \n",
            "con número de audiencia  6.749 \n",
            "\n",
            "Generacion # 6 \n",
            "El mejor horario es: ('S18', 'S20', 'S12', 'D20', 'L20', 'D16', 'D12', 'D18', 'V20', 'S16') \n",
            "con número de audiencia  6.749 \n",
            "\n",
            "Generacion # 7 \n",
            "El mejor horario es: ('S18', 'S20', 'S12', 'D20', 'L20', 'D16', 'D12', 'D18', 'V20', 'S16') \n",
            "con número de audiencia  6.749 \n",
            "\n",
            "Generacion # 8 \n",
            "El mejor horario es: ('S18', 'S20', 'S12', 'D20', 'L20', 'D16', 'D12', 'D18', 'V20', 'S16') \n",
            "con número de audiencia  6.749 \n",
            "\n",
            "Generacion # 9 \n",
            "El mejor horario es: ('S18', 'S20', 'S12', 'D20', 'L20', 'D16', 'D12', 'D18', 'V20', 'S16') \n",
            "con número de audiencia  6.749 \n",
            "\n",
            "Generacion # 10 \n",
            "El mejor horario es: ('S18', 'S20', 'V20', 'D20', 'L20', 'D18', 'D16', 'D18', 'S12', 'S16') \n",
            "con número de audiencia  6.785 \n",
            "\n",
            "Generacion # 11 \n",
            "El mejor horario es: ('S18', 'S20', 'V20', 'D20', 'L20', 'D18', 'D16', 'D18', 'S12', 'S16') \n",
            "con número de audiencia  6.785 \n",
            "\n",
            "Generacion # 12 \n",
            "El mejor horario es: ('S18', 'S20', 'D12', 'D20', 'L20', 'S12', 'D16', 'D18', 'V20', 'S16') \n",
            "con número de audiencia  6.822 \n",
            "\n",
            "Generacion # 13 \n",
            "El mejor horario es: ('S18', 'S20', 'D12', 'D20', 'L20', 'S12', 'D16', 'D18', 'V20', 'S16') \n",
            "con número de audiencia  6.822 \n",
            "\n",
            "Generacion # 14 \n",
            "El mejor horario es: ('S18', 'S20', 'D12', 'D20', 'L20', 'S12', 'D16', 'D18', 'V20', 'S16') \n",
            "con número de audiencia  6.822 \n",
            "\n",
            "Generacion # 15 \n",
            "El mejor horario es: ('S18', 'S20', 'D12', 'D20', 'L20', 'S12', 'D16', 'D18', 'V20', 'S16') \n",
            "con número de audiencia  6.822 \n",
            "\n",
            "Generacion # 16 \n",
            "El mejor horario es: ('S18', 'S20', 'D12', 'D20', 'L20', 'S12', 'D16', 'D18', 'V20', 'S16') \n",
            "con número de audiencia  6.822 \n",
            "\n",
            "Generacion # 17 \n",
            "El mejor horario es: ('S20', 'S18', 'V20', 'D20', 'L20', 'S12', 'D16', 'D18', 'D12', 'S16') \n",
            "con número de audiencia  6.836 \n",
            "\n",
            "Generacion # 18 \n",
            "El mejor horario es: ('S20', 'D18', 'D12', 'D20', 'L20', 'S12', 'D16', 'S16', 'V20', 'S18') \n",
            "con número de audiencia  6.842 \n",
            "\n",
            "Generacion # 19 \n",
            "El mejor horario es: ('S20', 'D18', 'D12', 'D20', 'L20', 'S12', 'D16', 'S16', 'V20', 'S18') \n",
            "con número de audiencia  6.842 \n",
            "\n",
            "Generacion # 20 \n",
            "El mejor horario es: ('S20', 'D18', 'D12', 'D20', 'L20', 'S12', 'D16', 'S16', 'V20', 'S18') \n",
            "con número de audiencia  6.842 \n",
            "\n",
            "Generacion # 21 \n",
            "El mejor horario es: ('S20', 'D18', 'D12', 'D20', 'L20', 'S12', 'D16', 'S16', 'V20', 'S18') \n",
            "con número de audiencia  6.842 \n",
            "\n",
            "Generacion # 22 \n",
            "El mejor horario es: ('S20', 'D18', 'L20', 'D20', 'V20', 'S12', 'D16', 'S18', 'D12', 'S16') \n",
            "con número de audiencia  6.856 \n",
            "\n",
            "Generacion # 23 \n",
            "El mejor horario es: ('S20', 'D18', 'L20', 'D20', 'V20', 'S12', 'D16', 'S18', 'D12', 'S16') \n",
            "con número de audiencia  6.856 \n",
            "\n",
            "Generacion # 24 \n",
            "El mejor horario es: ('S20', 'D18', 'L20', 'D20', 'V20', 'S12', 'D16', 'S18', 'D12', 'S16') \n",
            "con número de audiencia  6.856 \n",
            "\n",
            "Generacion # 25 \n",
            "El mejor horario es: ('S20', 'D18', 'L20', 'D20', 'V20', 'S12', 'D16', 'S18', 'D12', 'S16') \n",
            "con número de audiencia  6.856 \n",
            "\n",
            "Generacion # 26 \n",
            "El mejor horario es: ('S20', 'D18', 'L20', 'D20', 'V20', 'S12', 'D16', 'S18', 'D12', 'S16') \n",
            "con número de audiencia  6.856 \n",
            "\n",
            "Generacion # 27 \n",
            "El mejor horario es: ('S20', 'D18', 'L20', 'D20', 'V20', 'S12', 'D16', 'S18', 'D12', 'S16') \n",
            "con número de audiencia  6.856 \n",
            "\n",
            "Generacion # 28 \n",
            "El mejor horario es: ('S20', 'D18', 'L20', 'D20', 'V20', 'S12', 'D16', 'S18', 'D12', 'S16') \n",
            "con número de audiencia  6.856 \n",
            "\n",
            "Generacion # 29 \n",
            "El mejor horario es: ('S20', 'D18', 'L20', 'D20', 'V20', 'S12', 'D16', 'S18', 'D12', 'S16') \n",
            "con número de audiencia  6.856 \n",
            "\n",
            "Generacion # 30 \n",
            "El mejor horario es: ('S20', 'D18', 'L20', 'D20', 'V20', 'S12', 'D16', 'S18', 'D12', 'S16') \n",
            "con número de audiencia  6.856 \n",
            "\n"
          ]
        },
        {
          "output_type": "display_data",
          "data": {
            "text/plain": [
              "<Figure size 640x480 with 1 Axes>"
            ],
            "image/png": "[encoded data removed]"
          },
          "metadata": {}
        }
      ]
    }
  ]
}