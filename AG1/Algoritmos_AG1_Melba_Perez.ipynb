{
  "nbformat": 4,
  "nbformat_minor": 0,
  "metadata": {
    "colab": {
      "provenance": [],
      "authorship_tag": "ABX9TyNAio+6BNuIS8UjxArcHnwF",
      "include_colab_link": true
    },
    "kernelspec": {
      "name": "python3",
      "display_name": "Python 3"
    },
    "language_info": {
      "name": "python"
    }
  },
  "cells": [
    {
      "cell_type": "markdown",
      "metadata": {
        "id": "view-in-github",
        "colab_type": "text"
      },
      "source": [
        "<a href=\"https://colab.research.google.com/github/melbaperez/03MAIR-Algoritmos-de-Optimizacion/blob/main/AG1/Algoritmos_AG1_Melba_Perez.ipynb\" target=\"_parent\"><img src=\"https://colab.research.google.com/assets/colab-badge.svg\" alt=\"Open In Colab\"/></a>"
      ]
    },
    {
      "cell_type": "markdown",
      "source": [
        "# AG1 - Actividad Guiada 1 de Algoritmos de Optimizacion\n",
        "\n",
        "Nombre: Melba Pérez Santana\n",
        "\n",
        "https://colab.research.google.com/drive/1WvZ-SFv9zXE-X0M0k4hu1W9iZzaoPIJo?usp=sharing\n",
        "\n",
        "https://github.com/melbaperez/03MAIR-Algoritmos-de-Optimizacion"
      ],
      "metadata": {
        "id": "TsvS6lqs_orB"
      }
    },
    {
      "cell_type": "markdown",
      "source": [
        "##Torres de Hanoi - Divide y venceras\n"
      ],
      "metadata": {
        "id": "Kxb9g8c6DxSA"
      }
    },
    {
      "cell_type": "code",
      "source": [
        "def Torres_Hanoi(n, desde, hasta):\n",
        "  \"\"\"\n",
        "  Paramétros:\n",
        "    N - Nº de fichas\n",
        "    desde - torre inicial\n",
        "    hasta - torre final\n",
        "  \"\"\"\n",
        "  if n==1 :\n",
        "    print(\"Lleva la ficha desde \" + str(desde) + \" hasta \" + str(hasta))\n",
        "\n",
        "  else:\n",
        "    Torres_Hanoi(n-1, desde, 6-desde-hasta)\n",
        "    print(\"Lleva la ficha desde \" + str(desde) + \" hasta \" + str(hasta))\n",
        "    Torres_Hanoi(n-1, 6-desde-hasta,  hasta)"
      ],
      "metadata": {
        "id": "5aVUst1v_6bN"
      },
      "execution_count": null,
      "outputs": []
    },
    {
      "cell_type": "code",
      "source": [
        "Torres_Hanoi(5, 1, 3)"
      ],
      "metadata": {
        "colab": {
          "base_uri": "https://localhost:8080/"
        },
        "id": "o1Dl1VqCD8Cp",
        "outputId": "24ecb3dd-a805-4be4-fdec-48cd95a30c5c"
      },
      "execution_count": null,
      "outputs": [
        {
          "output_type": "stream",
          "name": "stdout",
          "text": [
            "Lleva la ficha desde 1 hasta 3\n",
            "Lleva la ficha desde 1 hasta 2\n",
            "Lleva la ficha desde 3 hasta 2\n",
            "Lleva la ficha desde 1 hasta 3\n",
            "Lleva la ficha desde 2 hasta 1\n",
            "Lleva la ficha desde 2 hasta 3\n",
            "Lleva la ficha desde 1 hasta 3\n",
            "Lleva la ficha desde 1 hasta 2\n",
            "Lleva la ficha desde 3 hasta 2\n",
            "Lleva la ficha desde 3 hasta 1\n",
            "Lleva la ficha desde 2 hasta 1\n",
            "Lleva la ficha desde 3 hasta 2\n",
            "Lleva la ficha desde 1 hasta 3\n",
            "Lleva la ficha desde 1 hasta 2\n",
            "Lleva la ficha desde 3 hasta 2\n",
            "Lleva la ficha desde 1 hasta 3\n",
            "Lleva la ficha desde 2 hasta 1\n",
            "Lleva la ficha desde 2 hasta 3\n",
            "Lleva la ficha desde 1 hasta 3\n",
            "Lleva la ficha desde 2 hasta 1\n",
            "Lleva la ficha desde 3 hasta 2\n",
            "Lleva la ficha desde 3 hasta 1\n",
            "Lleva la ficha desde 2 hasta 1\n",
            "Lleva la ficha desde 2 hasta 3\n",
            "Lleva la ficha desde 1 hasta 3\n",
            "Lleva la ficha desde 1 hasta 2\n",
            "Lleva la ficha desde 3 hasta 2\n",
            "Lleva la ficha desde 1 hasta 3\n",
            "Lleva la ficha desde 2 hasta 1\n",
            "Lleva la ficha desde 2 hasta 3\n",
            "Lleva la ficha desde 1 hasta 3\n"
          ]
        }
      ]
    },
    {
      "cell_type": "markdown",
      "source": [
        "##Cambio de monedas - Técnica voraz"
      ],
      "metadata": {
        "id": "k7aBi3SGE0Wy"
      }
    },
    {
      "cell_type": "code",
      "source": [
        "SISTEMA = [11, 5 ,  1  ]"
      ],
      "metadata": {
        "id": "A4rlhPo0E4tm"
      },
      "execution_count": null,
      "outputs": []
    },
    {
      "cell_type": "code",
      "source": [
        "def cambio_monedas(CANTIDAD,SISTEMA):\n",
        "\n",
        "  SOLUCION = [0]*len(SISTEMA)\n",
        "  ValorAcumulado = 0\n",
        "\n",
        "  for i,valor in enumerate(SISTEMA):\n",
        "    monedas = (CANTIDAD-ValorAcumulado)//valor\n",
        "    SOLUCION[i] = monedas\n",
        "    ValorAcumulado = ValorAcumulado + monedas*valor\n",
        "\n",
        "    if CANTIDAD == ValorAcumulado:\n",
        "      return SOLUCION\n",
        "\n",
        "  print(\"No es posible encontrar solucion\")"
      ],
      "metadata": {
        "id": "yZAPi7xiE0Cl"
      },
      "execution_count": null,
      "outputs": []
    },
    {
      "cell_type": "code",
      "source": [
        "cambio_monedas(15,SISTEMA)"
      ],
      "metadata": {
        "id": "BapAf4JEE8zg"
      },
      "execution_count": null,
      "outputs": []
    },
    {
      "cell_type": "markdown",
      "source": [
        "##N Reinas - Vuelta Atrás"
      ],
      "metadata": {
        "id": "_2aYkDVzHb4Z"
      }
    },
    {
      "cell_type": "code",
      "source": [
        "def es_prometedora(SOLUCION,etapa):\n",
        "  ''' Verifica que en la solución parcial no hay amenzas entre reinas'''\n",
        "  #print(SOLUCION)\n",
        "  #Si la solución tiene dos valores iguales no es valida => Dos reinas en la misma fila\n",
        "  for i in range(etapa+1):\n",
        "    #print(\"El valor \" + str(SOLUCION[i]) + \" está \" +  str(SOLUCION.count(SOLUCION[i])) + \" veces\")\n",
        "    if SOLUCION.count(SOLUCION[i]) > 1:\n",
        "      return False\n",
        "\n",
        "    #Verifica las diagonales\n",
        "    for j in range(i+1, etapa +1 ):\n",
        "      #print(\"Comprobando diagonal de \" + str(i) + \" y \" + str(j))\n",
        "      if abs(i-j) == abs(SOLUCION[i]-SOLUCION[j]) : return False\n",
        "  return True\n",
        "\n",
        "def escribe_solucion(S):\n",
        "  ''' Traduce la solución al tablero '''\n",
        "  n = len(S)\n",
        "  for x in range(n):\n",
        "    print(\"\")\n",
        "    for i in range(n):\n",
        "      if S[i] == x+1:\n",
        "        print(\" X \" , end=\"\")\n",
        "      else:\n",
        "        print(\" - \", end=\"\")\n",
        "\n",
        "\n",
        "def reinas(N, solucion=[],etapa=0):\n",
        "  ''' Proceso principal de N-Reinas '''\n",
        "  if len(solucion) == 0:         # [0,0,0...]\n",
        "    solucion = [0 for i in range(N) ]\n",
        "\n",
        "  for i in range(1, N+1):\n",
        "    solucion[etapa] = i\n",
        "    if es_prometedora(solucion, etapa):\n",
        "      if etapa == N-1:\n",
        "        print(solucion)\n",
        "      else:\n",
        "        reinas(N, solucion, etapa+1)\n",
        "    else:\n",
        "      None\n",
        "\n",
        "  solucion[etapa] = 0"
      ],
      "metadata": {
        "id": "2lXkQFQpHcRE"
      },
      "execution_count": null,
      "outputs": []
    },
    {
      "cell_type": "code",
      "source": [
        "reinas(8,solucion=[],etapa=0)"
      ],
      "metadata": {
        "colab": {
          "base_uri": "https://localhost:8080/"
        },
        "id": "ItTq9P6YH0Em",
        "outputId": "fbd283ff-63a1-405b-fe01-5dacd1bb8a9f"
      },
      "execution_count": null,
      "outputs": [
        {
          "output_type": "stream",
          "name": "stdout",
          "text": [
            "[1, 5, 8, 6, 3, 7, 2, 4]\n",
            "[1, 6, 8, 3, 7, 4, 2, 5]\n",
            "[1, 7, 4, 6, 8, 2, 5, 3]\n",
            "[1, 7, 5, 8, 2, 4, 6, 3]\n",
            "[2, 4, 6, 8, 3, 1, 7, 5]\n",
            "[2, 5, 7, 1, 3, 8, 6, 4]\n",
            "[2, 5, 7, 4, 1, 8, 6, 3]\n",
            "[2, 6, 1, 7, 4, 8, 3, 5]\n",
            "[2, 6, 8, 3, 1, 4, 7, 5]\n",
            "[2, 7, 3, 6, 8, 5, 1, 4]\n",
            "[2, 7, 5, 8, 1, 4, 6, 3]\n",
            "[2, 8, 6, 1, 3, 5, 7, 4]\n",
            "[3, 1, 7, 5, 8, 2, 4, 6]\n",
            "[3, 5, 2, 8, 1, 7, 4, 6]\n",
            "[3, 5, 2, 8, 6, 4, 7, 1]\n",
            "[3, 5, 7, 1, 4, 2, 8, 6]\n",
            "[3, 5, 8, 4, 1, 7, 2, 6]\n",
            "[3, 6, 2, 5, 8, 1, 7, 4]\n",
            "[3, 6, 2, 7, 1, 4, 8, 5]\n",
            "[3, 6, 2, 7, 5, 1, 8, 4]\n",
            "[3, 6, 4, 1, 8, 5, 7, 2]\n",
            "[3, 6, 4, 2, 8, 5, 7, 1]\n",
            "[3, 6, 8, 1, 4, 7, 5, 2]\n",
            "[3, 6, 8, 1, 5, 7, 2, 4]\n",
            "[3, 6, 8, 2, 4, 1, 7, 5]\n",
            "[3, 7, 2, 8, 5, 1, 4, 6]\n",
            "[3, 7, 2, 8, 6, 4, 1, 5]\n",
            "[3, 8, 4, 7, 1, 6, 2, 5]\n",
            "[4, 1, 5, 8, 2, 7, 3, 6]\n",
            "[4, 1, 5, 8, 6, 3, 7, 2]\n",
            "[4, 2, 5, 8, 6, 1, 3, 7]\n",
            "[4, 2, 7, 3, 6, 8, 1, 5]\n",
            "[4, 2, 7, 3, 6, 8, 5, 1]\n",
            "[4, 2, 7, 5, 1, 8, 6, 3]\n",
            "[4, 2, 8, 5, 7, 1, 3, 6]\n",
            "[4, 2, 8, 6, 1, 3, 5, 7]\n",
            "[4, 6, 1, 5, 2, 8, 3, 7]\n",
            "[4, 6, 8, 2, 7, 1, 3, 5]\n",
            "[4, 6, 8, 3, 1, 7, 5, 2]\n",
            "[4, 7, 1, 8, 5, 2, 6, 3]\n",
            "[4, 7, 3, 8, 2, 5, 1, 6]\n",
            "[4, 7, 5, 2, 6, 1, 3, 8]\n",
            "[4, 7, 5, 3, 1, 6, 8, 2]\n",
            "[4, 8, 1, 3, 6, 2, 7, 5]\n",
            "[4, 8, 1, 5, 7, 2, 6, 3]\n",
            "[4, 8, 5, 3, 1, 7, 2, 6]\n",
            "[5, 1, 4, 6, 8, 2, 7, 3]\n",
            "[5, 1, 8, 4, 2, 7, 3, 6]\n",
            "[5, 1, 8, 6, 3, 7, 2, 4]\n",
            "[5, 2, 4, 6, 8, 3, 1, 7]\n",
            "[5, 2, 4, 7, 3, 8, 6, 1]\n",
            "[5, 2, 6, 1, 7, 4, 8, 3]\n",
            "[5, 2, 8, 1, 4, 7, 3, 6]\n",
            "[5, 3, 1, 6, 8, 2, 4, 7]\n",
            "[5, 3, 1, 7, 2, 8, 6, 4]\n",
            "[5, 3, 8, 4, 7, 1, 6, 2]\n",
            "[5, 7, 1, 3, 8, 6, 4, 2]\n",
            "[5, 7, 1, 4, 2, 8, 6, 3]\n",
            "[5, 7, 2, 4, 8, 1, 3, 6]\n",
            "[5, 7, 2, 6, 3, 1, 4, 8]\n",
            "[5, 7, 2, 6, 3, 1, 8, 4]\n",
            "[5, 7, 4, 1, 3, 8, 6, 2]\n",
            "[5, 8, 4, 1, 3, 6, 2, 7]\n",
            "[5, 8, 4, 1, 7, 2, 6, 3]\n",
            "[6, 1, 5, 2, 8, 3, 7, 4]\n",
            "[6, 2, 7, 1, 3, 5, 8, 4]\n",
            "[6, 2, 7, 1, 4, 8, 5, 3]\n",
            "[6, 3, 1, 7, 5, 8, 2, 4]\n",
            "[6, 3, 1, 8, 4, 2, 7, 5]\n",
            "[6, 3, 1, 8, 5, 2, 4, 7]\n",
            "[6, 3, 5, 7, 1, 4, 2, 8]\n",
            "[6, 3, 5, 8, 1, 4, 2, 7]\n",
            "[6, 3, 7, 2, 4, 8, 1, 5]\n",
            "[6, 3, 7, 2, 8, 5, 1, 4]\n",
            "[6, 3, 7, 4, 1, 8, 2, 5]\n",
            "[6, 4, 1, 5, 8, 2, 7, 3]\n",
            "[6, 4, 2, 8, 5, 7, 1, 3]\n",
            "[6, 4, 7, 1, 3, 5, 2, 8]\n",
            "[6, 4, 7, 1, 8, 2, 5, 3]\n",
            "[6, 8, 2, 4, 1, 7, 5, 3]\n",
            "[7, 1, 3, 8, 6, 4, 2, 5]\n",
            "[7, 2, 4, 1, 8, 5, 3, 6]\n",
            "[7, 2, 6, 3, 1, 4, 8, 5]\n",
            "[7, 3, 1, 6, 8, 5, 2, 4]\n",
            "[7, 3, 8, 2, 5, 1, 6, 4]\n",
            "[7, 4, 2, 5, 8, 1, 3, 6]\n",
            "[7, 4, 2, 8, 6, 1, 3, 5]\n",
            "[7, 5, 3, 1, 6, 8, 2, 4]\n",
            "[8, 2, 4, 1, 7, 5, 3, 6]\n",
            "[8, 2, 5, 3, 1, 7, 4, 6]\n",
            "[8, 3, 1, 6, 2, 5, 7, 4]\n",
            "[8, 4, 1, 3, 6, 2, 7, 5]\n"
          ]
        }
      ]
    },
    {
      "cell_type": "code",
      "source": [
        "escribe_solucion([1, 5, 8, 6, 3, 7, 2, 4])"
      ],
      "metadata": {
        "colab": {
          "base_uri": "https://localhost:8080/"
        },
        "id": "sIOPkvg_IKfj",
        "outputId": "174f5e09-3c49-47a3-8347-8b3f1513c5aa"
      },
      "execution_count": null,
      "outputs": [
        {
          "output_type": "stream",
          "name": "stdout",
          "text": [
            "\n",
            " X  -  -  -  -  -  -  - \n",
            " -  -  -  -  -  -  X  - \n",
            " -  -  -  -  X  -  -  - \n",
            " -  -  -  -  -  -  -  X \n",
            " -  X  -  -  -  -  -  - \n",
            " -  -  -  X  -  -  -  - \n",
            " -  -  -  -  -  X  -  - \n",
            " -  -  X  -  -  -  -  - "
          ]
        }
      ]
    },
    {
      "cell_type": "markdown",
      "source": [
        "##Viaje por el rio - Programación dinámica\n"
      ],
      "metadata": {
        "id": "qGeo6iMGI-Xv"
      }
    },
    {
      "cell_type": "code",
      "source": [
        "INF = float(\"inf\")\n",
        "TARIFAS = [\n",
        "[0,5,4,3,INF,INF,INF],\n",
        "[INF,0,INF,2,3,INF,11],\n",
        "[INF,INF, 0,1,INF,4,10],\n",
        "[INF,INF,INF, 0,5,6,9],\n",
        "[INF,INF,INF,INF,0,INF,4],\n",
        "[INF,INF,INF,INF,INF,0,3],\n",
        "[INF,INF,INF,INF,INF,INF,0]\n",
        "]"
      ],
      "metadata": {
        "id": "jE7Ev824JyJG"
      },
      "execution_count": null,
      "outputs": []
    },
    {
      "cell_type": "code",
      "source": [
        "def Precios(TARIFAS):\n",
        "  '''Calculo de la matriz de PRECIOS y RUTAS'''\n",
        "  #Total de Nodos\n",
        "  N = len(TARIFAS[0])\n",
        "\n",
        "  #Inicialización de la tabla de precios\n",
        "  PRECIOS = [ [INF]*N for i in [INF]*N]\n",
        "  RUTA = [ [\"\"]*N for i in [\"\"]*N]\n",
        "\n",
        "  for i in range(0,N-1):\n",
        "    RUTA[i][i] = i             #Para ir de i a i se \"pasa por i\"\n",
        "    PRECIOS[i][i] = 0          #Para ir de i a i se se paga 0\n",
        "    for j in range(i+1, N):\n",
        "      MIN = TARIFAS[i][j]\n",
        "      RUTA[i][j] = i\n",
        "\n",
        "      for k in range(i, j):\n",
        "        if PRECIOS[i][k] + TARIFAS[k][j] < MIN:\n",
        "            MIN = min(MIN, PRECIOS[i][k] + TARIFAS[k][j] )\n",
        "            RUTA[i][j] = k          #Anota que para ir de i a j hay que pasar por k\n",
        "        PRECIOS[i][j] = MIN\n",
        "\n",
        "  return PRECIOS,RUTA\n",
        "\n",
        "def calcular_ruta(RUTA, desde, hasta):\n",
        "  '''Determinar la ruta con Recursividad'''\n",
        "  if desde == hasta:\n",
        "    #print(\"Ir a :\" + str(desde))\n",
        "    return \"\"\n",
        "  else:\n",
        "    return str(calcular_ruta( RUTA, desde, RUTA[desde][hasta])) +  \\\n",
        "                ',' + \\\n",
        "                str(RUTA[desde][hasta] \\\n",
        "              )\n"
      ],
      "metadata": {
        "id": "MfpmCH7zI7CL"
      },
      "execution_count": null,
      "outputs": []
    },
    {
      "cell_type": "code",
      "source": [
        "PRECIOS,RUTA = Precios(TARIFAS)\n",
        "#print(PRECIOS[0][6])\n",
        "\n",
        "print(\"PRECIOS\")\n",
        "for i in range(len(TARIFAS)):\n",
        "  print(PRECIOS[i])\n",
        "\n",
        "print(\"\\nRUTA\")\n",
        "for i in range(len(TARIFAS)):\n",
        "  print(RUTA[i])\n",
        "\n",
        "print(\"\\nLa ruta es:\")\n",
        "calcular_ruta(RUTA, 0,6)"
      ],
      "metadata": {
        "colab": {
          "base_uri": "https://localhost:8080/",
          "height": 358
        },
        "id": "sOdQpdGoJpOl",
        "outputId": "f39633a5-29fa-4fcf-aed6-0c3a84c379dc"
      },
      "execution_count": null,
      "outputs": [
        {
          "output_type": "stream",
          "name": "stdout",
          "text": [
            "PRECIOS\n",
            "[0, 5, 4, 3, 8, 8, 11]\n",
            "[inf, 0, inf, 2, 3, 8, 7]\n",
            "[inf, inf, 0, 1, 6, 4, 7]\n",
            "[inf, inf, inf, 0, 5, 6, 9]\n",
            "[inf, inf, inf, inf, 0, inf, 4]\n",
            "[inf, inf, inf, inf, inf, 0, 3]\n",
            "[inf, inf, inf, inf, inf, inf, inf]\n",
            "\n",
            "RUTA\n",
            "[0, 0, 0, 0, 1, 2, 5]\n",
            "['', 1, 1, 1, 1, 3, 4]\n",
            "['', '', 2, 2, 3, 2, 5]\n",
            "['', '', '', 3, 3, 3, 3]\n",
            "['', '', '', '', 4, 4, 4]\n",
            "['', '', '', '', '', 5, 5]\n",
            "['', '', '', '', '', '', '']\n",
            "\n",
            "La ruta es:\n"
          ]
        },
        {
          "output_type": "execute_result",
          "data": {
            "text/plain": [
              "',0,2,5'"
            ],
            "application/vnd.google.colaboratory.intrinsic+json": {
              "type": "string"
            }
          },
          "metadata": {},
          "execution_count": 8
        }
      ]
    },
    {
      "cell_type": "markdown",
      "source": [
        "##Práctica individual - Dos puntos más cercanos"
      ],
      "metadata": {
        "id": "Htf4dbVQLUj1"
      }
    },
    {
      "cell_type": "code",
      "source": [
        "import random\n",
        "\n",
        "lista_1D = [random.randrange(1, 10000) for x in range(1000)]\n",
        "\n",
        "lista_2D = [(random.randrange(1, 10000), random.randrange(1, 10000)) for x in range(1000)]\n",
        "\n",
        "lista_3D = [(random.randrange(1, 10000), random.randrange(1, 10000), random.randrange(1, 10000)) for x in range(1000)]"
      ],
      "metadata": {
        "id": "GDBHfYMXLZcg"
      },
      "execution_count": null,
      "outputs": []
    },
    {
      "cell_type": "code",
      "source": [
        "def distancia_1D(num1, num2):\n",
        "  return abs(num1 - num2)\n",
        "\n",
        "def distancia_2D(num1, num2):\n",
        "  return pow(pow(num1[0] - num2[0], 2) + pow(num1[1] - num2[1], 2), 0.5)\n",
        "\n",
        "def distancia_3D(num1, num2):\n",
        "  return pow(pow(num1[0] - num2[0], 2) + pow(num1[1] - num2[1], 2) + pow(num1[2] - num2[2], 2), 0.5)"
      ],
      "metadata": {
        "id": "rog6SPZMR7is"
      },
      "execution_count": null,
      "outputs": []
    },
    {
      "cell_type": "markdown",
      "source": [
        "###Fuerza bruta"
      ],
      "metadata": {
        "id": "FAD80VGzPkeI"
      }
    },
    {
      "cell_type": "code",
      "source": [
        "def minDistFuerzaBruta_1D(lista):\n",
        "  minDist = float(\"inf\")\n",
        "  for i in range(len(lista)):\n",
        "    for j in range(i+1, len(lista)):\n",
        "      dist = distancia_1D(lista[i], lista[j])\n",
        "      if dist < minDist:\n",
        "        minDist = dist\n",
        "        closestPair = (i, j)\n",
        "        if lista[i] == lista[j]:\n",
        "          print(\"Puntos iguales\")\n",
        "          break\n",
        "  print(f\"Los números son: ({lista[closestPair[0]]}, {lista[closestPair[1]]})\")\n",
        "  return closestPair\n",
        "\n",
        "def minDistFuerzaBruta_2D(lista):\n",
        "  minDist = float(\"inf\")\n",
        "  for i in range(len(lista)):\n",
        "    for j in range(i+1, len(lista)):\n",
        "      dist = distancia_2D(lista[i], lista[j])\n",
        "      if dist < minDist:\n",
        "        minDist = dist\n",
        "        closestPair = (i, j)\n",
        "        if lista[i] == lista[j]:\n",
        "          print(\"Puntos iguales\")\n",
        "          break\n",
        "  print(f\"Los números son: ({lista[closestPair[0]]}, {lista[closestPair[1]]})\")\n",
        "  return closestPair\n",
        "\n",
        "def minDistFuerzaBruta_3D(lista):\n",
        "  minDist = float(\"inf\")\n",
        "  for i in range(len(lista)):\n",
        "    for j in range(i+1, len(lista)):\n",
        "      dist = distancia_3D(lista[i], lista[j])\n",
        "      if dist < minDist:\n",
        "        minDist = dist\n",
        "        closestPair = (i, j)\n",
        "        if lista[i] == lista[j]:\n",
        "          print(\"Puntos iguales\")\n",
        "          break\n",
        "  print(f\"Los números son: ({lista[closestPair[0]]}, {lista[closestPair[1]]})\")\n",
        "  return closestPair"
      ],
      "metadata": {
        "id": "w5v5fOvkLrch"
      },
      "execution_count": null,
      "outputs": []
    },
    {
      "cell_type": "code",
      "source": [
        "print(minDistFuerzaBruta_1D(lista_1D))\n",
        "print(minDistFuerzaBruta_2D(lista_2D))\n",
        "print(minDistFuerzaBruta_3D(lista_3D))"
      ],
      "metadata": {
        "colab": {
          "base_uri": "https://localhost:8080/"
        },
        "id": "po4bpst-Q2be",
        "outputId": "9f27625a-d98c-4f82-f745-796c56461be5"
      },
      "execution_count": null,
      "outputs": [
        {
          "output_type": "stream",
          "name": "stdout",
          "text": [
            "Puntos iguales\n",
            "Los números son: (6480, 6480)\n",
            "(21, 821)\n",
            "Los números son: ((7139, 5189), (7146, 5198))\n",
            "(375, 904)\n",
            "Los números son: ((3863, 2622, 4128), (3800, 2634, 4132))\n",
            "(194, 934)\n"
          ]
        }
      ]
    }
  ]
}